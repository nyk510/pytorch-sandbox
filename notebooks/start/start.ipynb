{
 "cells": [
  {
   "cell_type": "markdown",
   "metadata": {},
   "source": [
    "# はじめの一歩"
   ]
  },
  {
   "cell_type": "code",
   "execution_count": 1,
   "metadata": {},
   "outputs": [],
   "source": [
    "import torch"
   ]
  },
  {
   "cell_type": "code",
   "execution_count": 132,
   "metadata": {},
   "outputs": [],
   "source": [
    "dtype = torch.float\n",
    "\n",
    "use_gpu = False\n",
    "\n",
    "if use_gpu:\n",
    "    device = torch.device(\"cuda:0\")\n",
    "else:\n",
    "    device = torch.device(\"cpu\")"
   ]
  },
  {
   "cell_type": "markdown",
   "metadata": {},
   "source": [
    "想定するニューラルネットワークは 100 次元の実数値 $x \\in \\mathbb{R}^{100}$ を入力にとり、1次元の実数予測値 $\\hat{y} \\in \\mathbb{R}$ を返すようなものです。\n",
    "\n",
    "$$\n",
    "z = W_1^T x + b_1\\\\\n",
    "h = {\\rm relu}(z) \\\\\n",
    "\\hat{y} = W_2^T h + b_2\n",
    "$$\n",
    "\n",
    "ここで $W_1 \\in \\mathbb{R}^{100 \\times 1000}, W_2 \\in \\mathbb{R}^{10 \\times 100}$ はそれぞれネットワークの重みを指します。\n",
    "また $b_1 \\in \\mathbb{R}^{1000}, b_2 \\in \\mathbb{R}^{10}$ はバイアスパラメータです。"
   ]
  },
  {
   "cell_type": "code",
   "execution_count": 133,
   "metadata": {},
   "outputs": [],
   "source": [
    "batch_size = 100\n",
    "input_dim = 1000\n",
    "hidden_dim = 100\n",
    "outpu_dim = 10"
   ]
  },
  {
   "cell_type": "code",
   "execution_count": 146,
   "metadata": {},
   "outputs": [],
   "source": [
    "variable_types = {\n",
    "    \"device\": device,\n",
    "    \"dtype\": dtype\n",
    "}"
   ]
  },
  {
   "cell_type": "markdown",
   "metadata": {},
   "source": [
    "入力データと正解ラベルをガウスノイズを用いてランダムに作成します。"
   ]
  },
  {
   "cell_type": "code",
   "execution_count": 135,
   "metadata": {},
   "outputs": [],
   "source": [
    "x = torch.randn(batch_size, input_dim, **variable_types)\n",
    "y = torch.randn(batch_size, outpu_dim, **variable_types)"
   ]
  },
  {
   "cell_type": "code",
   "execution_count": 136,
   "metadata": {},
   "outputs": [],
   "source": [
    "# 重みの初期値はランダムに設定\n",
    "w1 = torch.randn(input_dim, hidden_dim, **variable_types)\n",
    "w2 = torch.randn(hidden_dim, outpu_dim, **variable_types)"
   ]
  },
  {
   "cell_type": "code",
   "execution_count": 137,
   "metadata": {},
   "outputs": [
    {
     "data": {
      "text/plain": [
       "(tensor(0.9932), tensor(-4.3773))"
      ]
     },
     "execution_count": 137,
     "metadata": {},
     "output_type": "execute_result"
    }
   ],
   "source": [
    "w1.data.var(), w1.min()"
   ]
  },
  {
   "cell_type": "code",
   "execution_count": 138,
   "metadata": {},
   "outputs": [],
   "source": [
    "lr = 2e-6"
   ]
  },
  {
   "cell_type": "markdown",
   "metadata": {},
   "source": [
    "## 手計算で backward\n",
    "\n",
    "重みに対する `backward` をチェーンルールを用いて計算し、それを随時適用することで重みを更新する、というパワープレイ。\n",
    "\n",
    "ちなみに今回のモデルに対する勾配は以下のようになる、はず。\n",
    "\n",
    "$$\n",
    "f(y, \\hat{y}) = \\| y - \\hat{y} \\|^2\n",
    "$$\n",
    "\n",
    "$$\n",
    "\\begin{align}\n",
    "\\frac{\\partial f}{\\partial W_2} &= - 2 (y - \\hat{y}) h \\\\\n",
    "\\frac{\\partial f}{\\partial W_1} &= (- 2 (y - \\hat{y}) W_1 {\\rm diag}(H_0(h)) x )^T \\\\\n",
    "&= -2 x^T (y - \\hat{y}) W_1 {\\rm diag}(H_0(h))\n",
    "\\end{align}\n",
    "$$\n",
    "\n",
    "ここで $H_0$ はヘヴィサイドの階段関数"
   ]
  },
  {
   "cell_type": "code",
   "execution_count": 139,
   "metadata": {},
   "outputs": [
    {
     "name": "stdout",
     "output_type": "stream",
     "text": [
      "CPU times: user 2.09 s, sys: 8.17 ms, total: 2.1 s\n",
      "Wall time: 525 ms\n"
     ]
    }
   ],
   "source": [
    "%%time\n",
    "\n",
    "epochs = 1000\n",
    "losses = []\n",
    "for i in range(epochs):\n",
    "    z = x.mm(w1)\n",
    "\n",
    "    # relu activetion\n",
    "    a = z.clamp(min=0)\n",
    "    pred = a.mm(w2)\n",
    "\n",
    "    loss = ((pred - y) ** 2.).sum()\n",
    "    losses.append(loss.item())\n",
    "\n",
    "    grad_pred = 2 * (pred - y)\n",
    "\n",
    "    grad_pred.shape\n",
    "\n",
    "    grad_w2 = a.t().mm(grad_pred)\n",
    "\n",
    "    grad_w2.shape\n",
    "\n",
    "    grad_a = grad_pred.mm(w2.t())\n",
    "\n",
    "    grad_a[z < 0] = 0\n",
    "\n",
    "    grad_w1 = x.t().mm(grad_a)\n",
    "\n",
    "    grad_w1.shape\n",
    "\n",
    "    w1 -= lr * grad_w1 \n",
    "    w2 -= lr * grad_w2\n",
    "    \n",
    "    if i % 200 == 0:\n",
    "        lr *= .5"
   ]
  },
  {
   "cell_type": "code",
   "execution_count": 126,
   "metadata": {},
   "outputs": [],
   "source": [
    "import matplotlib.pyplot as plt\n",
    "%matplotlib inline"
   ]
  },
  {
   "cell_type": "code",
   "execution_count": 127,
   "metadata": {},
   "outputs": [
    {
     "data": {
      "image/png": "[encoded data removed]",
      "text/plain": [
       "<matplotlib.figure.Figure at 0x7f4a6e689a90>"
      ]
     },
     "metadata": {},
     "output_type": "display_data"
    }
   ],
   "source": [
    "plt.plot(losses)\n",
    "plt.yscale(\"log\")"
   ]
  },
  {
   "cell_type": "markdown",
   "metadata": {},
   "source": [
    "## Autograd を使う\n",
    "\n",
    "先の例では自分で勾配を計算していた。\n",
    "torch は自動微分が定義されているのでこれを使うとb `backword` の部分を計算グラフから自動で計算してくれる。\n",
    "\n",
    "自動微分を用いるには `require_grad=True` にすればOK"
   ]
  },
  {
   "cell_type": "code",
   "execution_count": 147,
   "metadata": {},
   "outputs": [],
   "source": [
    "variable_types[\"requires_grad\"] = True"
   ]
  },
  {
   "cell_type": "code",
   "execution_count": 177,
   "metadata": {},
   "outputs": [],
   "source": [
    "w1 = torch.randn(input_dim, hidden_dim, **variable_types)\n",
    "w2 = torch.randn(hidden_dim, outpu_dim, **variable_types)"
   ]
  },
  {
   "cell_type": "code",
   "execution_count": 178,
   "metadata": {},
   "outputs": [],
   "source": [
    "lr = 1e-6"
   ]
  },
  {
   "cell_type": "code",
   "execution_count": 179,
   "metadata": {},
   "outputs": [],
   "source": [
    "losses = []\n",
    "for epoch in range(epochs):\n",
    "    \n",
    "    # forward (順伝搬) の計算を定義するだけでOK\n",
    "    pred = x.mm(w1).clamp(min=0).mm(w2)\n",
    "    \n",
    "    loss = (y - pred).pow(2).sum()\n",
    "    \n",
    "    loss.backward()\n",
    "    losses.append(loss.item())\n",
    "\n",
    "    # 以下で重みを update するがこの時の変更は autograd に追跡されたくない。\n",
    "    # `with torch.no_grad()` の部分では追跡を行わないようになる。\n",
    "    # 他の方法としては tensor の値を直接変更するという方法がある\n",
    "    # ex). w1.data -= lr* w1.grad.data\n",
    "    # しかしこの方法だと履歴を追跡できなくなる\n",
    "    with torch.no_grad():\n",
    "        w1 -= lr * w1.grad\n",
    "        w2 -= lr * w2.grad\n",
    "        \n",
    "        # 破壊的に勾配の値を 0 にする\n",
    "        w1.grad.zero_()\n",
    "        w2.grad.zero_()"
   ]
  },
  {
   "cell_type": "code",
   "execution_count": 180,
   "metadata": {},
   "outputs": [
    {
     "data": {
      "image/png": "[encoded data removed]",
      "text/plain": [
       "<matplotlib.figure.Figure at 0x7f4ab307fba8>"
      ]
     },
     "metadata": {},
     "output_type": "display_data"
    }
   ],
   "source": [
    "plt.plot(losses, \"-\")\n",
    "plt.yscale(\"log\")"
   ]
  },
  {
   "cell_type": "markdown",
   "metadata": {},
   "source": [
    "## torch.nn を使う"
   ]
  },
  {
   "cell_type": "code",
   "execution_count": 199,
   "metadata": {},
   "outputs": [],
   "source": [
    "class SimpleNNModel(torch.nn.Module):\n",
    "    \"\"\"\n",
    "    二層のニューラルネットワークモデル\"\"\"\n",
    "    \n",
    "    def __init__(self, input_dim, output_dim, hidden_dim):\n",
    "        super().__init__()\n",
    "        \n",
    "        self.dense1 = torch.nn.Linear(input_dim, hidden_dim)\n",
    "        self.dense2 = torch.nn.Linear(hidden_dim, outpu_dim)\n",
    "        \n",
    "    def forward(self, x):\n",
    "        \"\"\"\n",
    "        順伝搬の計算を行って予測値を返す\"\"\"\n",
    "        \n",
    "        h = self.dense1(x)\n",
    "        \n",
    "        # equal to relu activation\n",
    "        h = h.clamp(min=0)\n",
    "        \n",
    "        pred = self.dense2(h)\n",
    "        return pred"
   ]
  },
  {
   "cell_type": "code",
   "execution_count": 200,
   "metadata": {},
   "outputs": [],
   "source": [
    "clf = SimpleNNModel(input_dim, outpu_dim, hidden_dim)"
   ]
  },
  {
   "cell_type": "code",
   "execution_count": 201,
   "metadata": {},
   "outputs": [
    {
     "data": {
      "text/plain": [
       "SimpleNNModel(\n",
       "  (dense1): Linear(in_features=1000, out_features=100, bias=True)\n",
       "  (dense2): Linear(in_features=100, out_features=10, bias=True)\n",
       ")"
      ]
     },
     "execution_count": 201,
     "metadata": {},
     "output_type": "execute_result"
    }
   ],
   "source": [
    "clf"
   ]
  },
  {
   "cell_type": "code",
   "execution_count": 202,
   "metadata": {},
   "outputs": [],
   "source": [
    "# `criterion`: 予測値と正解ラベルとの差分を計算するオブジェクト\n",
    "# `size_averaging` を `False` にすると, 与えられたバッチ n それぞれの rmse を合計した loss を返す。\n",
    "# デフォルトでは `True` (すなわちバッチそれぞれの値を配列として返す)\n",
    "criterion = torch.nn.MSELoss(size_average=False)\n",
    "\n",
    "# 勾配の初期化, 重みの update などの方法(アルゴリズム) が torch.optima にいろいろ定義されている\n",
    "# 今回は単純な stochastic gradient descent を使う\n",
    "optimizer = torch.optim.SGD(clf.parameters(), lr=1e-5, momentum=.8, weight_decay=1e-8, nesterov=True)"
   ]
  },
  {
   "cell_type": "code",
   "execution_count": 203,
   "metadata": {},
   "outputs": [],
   "source": [
    "losses = []\n",
    "for epoch in range(epochs):\n",
    "    pred = clf.forward(x)\n",
    "    loss = criterion(pred, y)\n",
    "    losses.append(loss.item())\n",
    "    # 登録されたパラメータの勾配を 0 にする\n",
    "    optimizer.zero_grad()\n",
    "    loss.backward()\n",
    "    optimizer.step()"
   ]
  },
  {
   "cell_type": "code",
   "execution_count": 204,
   "metadata": {},
   "outputs": [
    {
     "data": {
      "image/png": "[encoded data removed]",
      "text/plain": [
       "<matplotlib.figure.Figure at 0x7f4a6e566e80>"
      ]
     },
     "metadata": {},
     "output_type": "display_data"
    }
   ],
   "source": [
    "plt.plot(losses)\n",
    "plt.yscale(\"log\")"
   ]
  },
  {
   "cell_type": "code",
   "execution_count": null,
   "metadata": {},
   "outputs": [],
   "source": []
  }
 ],
 "metadata": {
  "kernelspec": {
   "display_name": "Python 3",
   "language": "python",
   "name": "python3"
  },
  "language_info": {
   "codemirror_mode": {
    "name": "ipython",
    "version": 3
   },
   "file_extension": ".py",
   "mimetype": "text/x-python",
   "name": "python",
   "nbconvert_exporter": "python",
   "pygments_lexer": "ipython3",
   "version": "3.5.2"
  }
 },
 "nbformat": 4,
 "nbformat_minor": 2
}
