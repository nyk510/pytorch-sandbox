{
 "cells": [
  {
   "cell_type": "markdown",
   "metadata": {},
   "source": [
    "# はじめの一歩"
   ]
  },
  {
   "cell_type": "code",
   "execution_count": 1,
   "metadata": {},
   "outputs": [],
   "source": [
    "import torch"
   ]
  },
  {
   "cell_type": "code",
   "execution_count": 2,
   "metadata": {},
   "outputs": [],
   "source": [
    "dtype = torch.float\n",
    "\n",
    "use_gpu = False\n",
    "\n",
    "if use_gpu:\n",
    "    device = torch.device(\"cuda:0\")\n",
    "else:\n",
    "    device = torch.device(\"cpu\")"
   ]
  },
  {
   "cell_type": "markdown",
   "metadata": {},
   "source": [
    "想定するニューラルネットワークは 100 次元の実数値 $x \\in \\mathbb{R}^{100}$ を入力にとり、1次元の実数予測値 $\\hat{y} \\in \\mathbb{R}$ を返すようなものです。\n",
    "\n",
    "$$\n",
    "z = W_1^T x \\\\\n",
    "h = {\\rm relu}(z) \\\\\n",
    "\\hat{y} = W_2^T h \n",
    "$$\n",
    "\n",
    "ここで $W_1 \\in \\mathbb{R}^{100 \\times 1000}, W_2 \\in \\mathbb{R}^{10 \\times 100}$ はそれぞれネットワークの重みを指します。"
   ]
  },
  {
   "cell_type": "code",
   "execution_count": 3,
   "metadata": {},
   "outputs": [
    {
     "data": {
      "text/plain": [
       "torch.Tensor"
      ]
     },
     "execution_count": 3,
     "metadata": {},
     "output_type": "execute_result"
    }
   ],
   "source": [
    "x = torch.randn(2, 3)\n",
    "x.__class__"
   ]
  },
  {
   "cell_type": "code",
   "execution_count": 4,
   "metadata": {},
   "outputs": [
    {
     "data": {
      "text/plain": [
       "tensor([ 1.6180,  0.6957,  0.8190, -0.1657, -0.0048, -1.1411])"
      ]
     },
     "execution_count": 4,
     "metadata": {},
     "output_type": "execute_result"
    }
   ],
   "source": [
    "x.reshape(-1)"
   ]
  },
  {
   "cell_type": "code",
   "execution_count": 5,
   "metadata": {},
   "outputs": [
    {
     "data": {
      "text/plain": [
       "tensor([[ 1.6180,  0.6957,  0.8190],\n",
       "        [-0.1657, -0.0048, -1.1411]])"
      ]
     },
     "execution_count": 5,
     "metadata": {},
     "output_type": "execute_result"
    }
   ],
   "source": [
    "x.abs()\n",
    "x"
   ]
  },
  {
   "cell_type": "code",
   "execution_count": 6,
   "metadata": {},
   "outputs": [
    {
     "data": {
      "text/plain": [
       "tensor([[ 1.6180,  0.6957,  0.8190],\n",
       "        [ 0.1657,  0.0048,  1.1411]])"
      ]
     },
     "execution_count": 6,
     "metadata": {},
     "output_type": "execute_result"
    }
   ],
   "source": [
    "x.abs_()\n",
    "x"
   ]
  },
  {
   "cell_type": "code",
   "execution_count": 7,
   "metadata": {},
   "outputs": [],
   "source": [
    "batch_size = 100\n",
    "input_dim = 100\n",
    "hidden_dim = 1000\n",
    "outpu_dim = 10"
   ]
  },
  {
   "cell_type": "code",
   "execution_count": 8,
   "metadata": {},
   "outputs": [],
   "source": [
    "variable_types = {\n",
    "    \"device\": device,\n",
    "    \"dtype\": dtype\n",
    "}"
   ]
  },
  {
   "cell_type": "markdown",
   "metadata": {},
   "source": [
    "入力データと正解ラベルをガウスノイズを用いてランダムに作成します。"
   ]
  },
  {
   "cell_type": "code",
   "execution_count": 9,
   "metadata": {},
   "outputs": [],
   "source": [
    "x = torch.randn(batch_size, input_dim, **variable_types)\n",
    "y = torch.randn(batch_size, outpu_dim, **variable_types)"
   ]
  },
  {
   "cell_type": "code",
   "execution_count": 10,
   "metadata": {},
   "outputs": [],
   "source": [
    "# 重みの初期値はランダムに設定\n",
    "w1 = torch.randn(input_dim, hidden_dim, **variable_types)\n",
    "w2 = torch.randn(hidden_dim, outpu_dim, **variable_types)"
   ]
  },
  {
   "cell_type": "code",
   "execution_count": 11,
   "metadata": {},
   "outputs": [
    {
     "data": {
      "text/plain": [
       "(tensor(1.0107), tensor(-4.2550))"
      ]
     },
     "execution_count": 11,
     "metadata": {},
     "output_type": "execute_result"
    }
   ],
   "source": [
    "w1.data.var(), w1.min()"
   ]
  },
  {
   "cell_type": "code",
   "execution_count": 12,
   "metadata": {},
   "outputs": [],
   "source": [
    "lr = 2e-6"
   ]
  },
  {
   "cell_type": "markdown",
   "metadata": {},
   "source": [
    "## 手計算で backward\n",
    "\n",
    "重みに対する `backward` をチェーンルールを用いて計算し、それを随時適用することで重みを更新する、というパワープレイ。\n",
    "\n",
    "ちなみに今回のモデルに対する勾配は以下のようになる、はず。\n",
    "\n",
    "$$\n",
    "f(y, \\hat{y}) = \\| y - \\hat{y} \\|^2\n",
    "$$\n",
    "\n",
    "$$\n",
    "\\begin{align}\n",
    "\\frac{\\partial f}{\\partial W_2} &= - 2 (y - \\hat{y}) h \\\\\n",
    "\\frac{\\partial f}{\\partial W_1} &= (- 2 (y - \\hat{y}) W_1 {\\rm diag}(H_0(h)) x )^T \\\\\n",
    "&= -2 x^T (y - \\hat{y}) W_1 {\\rm diag}(H_0(h))\n",
    "\\end{align}\n",
    "$$\n",
    "\n",
    "ここで $H_0$ はヘヴィサイドの階段関数"
   ]
  },
  {
   "cell_type": "code",
   "execution_count": 13,
   "metadata": {},
   "outputs": [
    {
     "name": "stdout",
     "output_type": "stream",
     "text": [
      "CPU times: user 11.5 s, sys: 375 ms, total: 11.9 s\n",
      "Wall time: 2.97 s\n"
     ]
    }
   ],
   "source": [
    "%%time\n",
    "\n",
    "epochs = 1000\n",
    "losses = []\n",
    "for i in range(epochs):\n",
    "    z = x.mm(w1)\n",
    "\n",
    "    # relu activetion\n",
    "    a = z.clamp(min=0)\n",
    "    pred = a.mm(w2)\n",
    "\n",
    "    loss = ((pred - y) ** 2.).sum()\n",
    "    losses.append(loss.item())\n",
    "\n",
    "    grad_pred = 2 * (pred - y)\n",
    "\n",
    "    grad_pred.shape\n",
    "\n",
    "    grad_w2 = a.t().mm(grad_pred)\n",
    "\n",
    "    grad_w2.shape\n",
    "\n",
    "    grad_a = grad_pred.mm(w2.t())\n",
    "\n",
    "    grad_a[z < 0] = 0\n",
    "\n",
    "    grad_w1 = x.t().mm(grad_a)\n",
    "\n",
    "    grad_w1.shape\n",
    "\n",
    "    w1 -= lr * grad_w1 \n",
    "    w2 -= lr * grad_w2\n",
    "    \n",
    "    if i % 200 == 0:\n",
    "        lr *= .5"
   ]
  },
  {
   "cell_type": "code",
   "execution_count": 14,
   "metadata": {},
   "outputs": [],
   "source": [
    "import matplotlib.pyplot as plt\n",
    "%matplotlib inline"
   ]
  },
  {
   "cell_type": "code",
   "execution_count": 15,
   "metadata": {},
   "outputs": [
    {
     "data": {
      "image/png": "[encoded data removed]",
      "text/plain": [
       "<matplotlib.figure.Figure at 0x7f04e574c080>"
      ]
     },
     "metadata": {},
     "output_type": "display_data"
    }
   ],
   "source": [
    "plt.plot(losses)\n",
    "plt.yscale(\"log\")"
   ]
  },
  {
   "cell_type": "markdown",
   "metadata": {},
   "source": [
    "## Autograd を使う\n",
    "\n",
    "先の例では自分で勾配を計算していた。\n",
    "torch は自動微分が定義されているのでこれを使うとb `backword` の部分を計算グラフから自動で計算してくれる。\n",
    "\n",
    "自動微分を用いるには `require_grad=True` にすればOK"
   ]
  },
  {
   "cell_type": "code",
   "execution_count": 16,
   "metadata": {},
   "outputs": [],
   "source": [
    "variable_types[\"requires_grad\"] = True\n",
    "\n",
    "w1 = torch.randn(input_dim, hidden_dim, **variable_types)\n",
    "w2 = torch.randn(hidden_dim, outpu_dim, **variable_types)\n",
    "\n",
    "lr = 1e-6\n",
    "\n",
    "losses = []\n",
    "for epoch in range(epochs):\n",
    "    \n",
    "    # forward (順伝搬) の計算を定義するだけでOK\n",
    "    pred = x.mm(w1).clamp(min=0).mm(w2)\n",
    "    \n",
    "    loss = (y - pred).pow(2).sum()\n",
    "    \n",
    "    loss.backward()\n",
    "    losses.append(loss.item())\n",
    "\n",
    "    # 以下で重みを update するがこの時の変更は autograd に追跡されたくない。\n",
    "    # `with torch.no_grad()` の部分では追跡を行わないようになる。\n",
    "    # 他の方法としては tensor の値を直接変更するという方法がある\n",
    "    # ex). w1.data -= lr* w1.grad.data\n",
    "    # しかしこの方法だと履歴を追跡できなくなる\n",
    "    with torch.no_grad():\n",
    "        w1 -= lr * w1.grad\n",
    "        w2 -= lr * w2.grad\n",
    "        \n",
    "        # 破壊的に勾配の値を 0 にする\n",
    "        w1.grad.zero_()\n",
    "        w2.grad.zero_()"
   ]
  },
  {
   "cell_type": "code",
   "execution_count": 17,
   "metadata": {},
   "outputs": [
    {
     "data": {
      "image/png": "[encoded data removed]",
      "text/plain": [
       "<matplotlib.figure.Figure at 0x7f04e566d7b8>"
      ]
     },
     "metadata": {},
     "output_type": "display_data"
    }
   ],
   "source": [
    "plt.plot(losses, \"-\")\n",
    "plt.yscale(\"log\")"
   ]
  },
  {
   "cell_type": "markdown",
   "metadata": {},
   "source": [
    "## torch.nn を使う"
   ]
  },
  {
   "cell_type": "code",
   "execution_count": 18,
   "metadata": {},
   "outputs": [],
   "source": [
    "class SimpleNNModel(torch.nn.Module):\n",
    "    \"\"\"\n",
    "    二層のニューラルネットワークモデル\"\"\"\n",
    "    \n",
    "    def __init__(self, input_dim, output_dim, hidden_dim):\n",
    "        super().__init__()\n",
    "        \n",
    "        self.dense1 = torch.nn.Linear(input_dim, hidden_dim, bias=False)\n",
    "        self.dense2 = torch.nn.Linear(hidden_dim, outpu_dim, bias=False)\n",
    "        \n",
    "    def forward(self, x):\n",
    "        \"\"\"\n",
    "        順伝搬の計算を行って予測値を返す\"\"\"\n",
    "        \n",
    "        h = self.dense1(x)\n",
    "        \n",
    "        # equal to relu activation\n",
    "        h = h.clamp(min=0)\n",
    "        \n",
    "        pred = self.dense2(h)\n",
    "        return pred"
   ]
  },
  {
   "cell_type": "code",
   "execution_count": 19,
   "metadata": {},
   "outputs": [
    {
     "name": "stdout",
     "output_type": "stream",
     "text": [
      "Linear(in_features=100, out_features=1000, bias=False)\n",
      "Linear(in_features=1000, out_features=10, bias=False)\n",
      "Parameter containing:\n",
      "tensor(1.00000e-02 *\n",
      "       [[ 7.0615,  2.1847, -1.8890,  ..., -5.0784, -4.6400, -3.7641],\n",
      "        [ 9.6789,  9.0186,  9.6077,  ..., -5.5705,  8.3330, -5.8871],\n",
      "        [ 2.7536, -4.8678,  0.5568,  ..., -8.3201,  4.0804,  4.0012],\n",
      "        ...,\n",
      "        [-7.0127, -9.4717, -4.1426,  ...,  2.2844, -8.0036, -4.9633],\n",
      "        [ 7.8512, -2.9269,  5.6234,  ...,  9.6199,  1.7483, -4.1527],\n",
      "        [ 9.6325, -1.6357,  7.5426,  ...,  4.2192,  7.4679,  3.9888]])\n",
      "Parameter containing:\n",
      "tensor(1.00000e-02 *\n",
      "       [[-1.0663, -2.7280,  3.1288,  ...,  0.8447, -1.5913, -1.7122],\n",
      "        [-0.4052,  2.2802,  0.8896,  ...,  1.0402, -0.1711, -0.9671],\n",
      "        [ 3.0209, -1.2366, -2.0471,  ..., -2.6909,  2.9175,  0.4838],\n",
      "        ...,\n",
      "        [-1.5708, -2.1162,  1.6232,  ...,  3.0399, -2.5340,  1.8406],\n",
      "        [ 2.1781,  0.2861, -0.5789,  ...,  1.7480, -0.0139,  2.7987],\n",
      "        [ 1.7095, -1.7713, -0.4264,  ..., -1.5254,  1.9601, -1.6519]])\n"
     ]
    }
   ],
   "source": [
    "model = SimpleNNModel(input_dim, outpu_dim, hidden_dim)\n",
    "\n",
    "for c in model.children():\n",
    "    print(c)\n",
    "\n",
    "for p in model.parameters():\n",
    "    print(p)\n",
    "# Parameter containing:\n",
    "# tensor(1.00000e-02 *\n",
    "#        [[ 7.6395, -6.7308,  9.9475,  ...,  1.5201, -3.2150, -0.1836],\n",
    "#         [-8.0257,  9.9207,  2.4222,  ...,  4.2445,  8.2807,  7.5381],\n",
    "#         [ 3.3367,  0.5269, -0.0468,  ...,  2.7539,  9.4210,  7.7625],\n",
    "#         ...,\n",
    "#         [ 6.5938, -3.1973, -0.3842,  ..., -3.0842,  6.5831,  4.6253],\n",
    "#         [ 0.4635, -2.5175, -9.1168,  ...,  5.4131, -5.4361, -6.6949],\n",
    "#         [ 2.5444,  9.0936, -3.0305,  ...,  6.1671,  4.1751, -3.2943]])\n",
    "# Parameter containing:\n",
    "# tensor(1.00000e-02 *\n",
    "#        [[-3.0642,  3.1571,  1.1157,  ...,  2.1682,  2.4327, -1.7542],\n",
    "#         [ 0.6330, -3.1313, -1.7368,  ...,  2.4449, -2.3944,  2.3621],\n",
    "#         [-0.6492,  1.6452,  0.9604,  ..., -2.4719, -0.7905,  2.3031],\n",
    "#         ...,\n",
    "#         [-1.0288, -3.1262, -1.0839,  ..., -0.7796, -2.2369,  2.7909],\n",
    "#         [ 0.0137, -2.7335,  2.7928,  ..., -1.3900,  0.6610,  2.2154],\n",
    "#         [-3.1476, -2.1980, -1.7415,  ..., -2.2474, -2.0570, -2.9524]])"
   ]
  },
  {
   "cell_type": "code",
   "execution_count": 20,
   "metadata": {},
   "outputs": [],
   "source": [
    "model = model.to(device)"
   ]
  },
  {
   "cell_type": "code",
   "execution_count": 21,
   "metadata": {},
   "outputs": [],
   "source": [
    "# `criterion`: 予測値と正解ラベルとの差分を計算するオブジェクト\n",
    "# `size_averaging` を `False` にすると, 与えられたバッチ n それぞれの rmse を合計した loss を返す。\n",
    "# デフォルトでは `True` (すなわちバッチそれぞれの値を配列として返す)\n",
    "criterion = torch.nn.MSELoss(size_average=False)\n",
    "\n",
    "# 勾配の初期化, 重みの update などの方法(アルゴリズム) が torch.optima にいろいろ定義されている\n",
    "# 第一引数にこの optimizer で update したいパラメータの配列を渡す. \n",
    "# 今回は単純な stochastic gradient descent を使う\n",
    "optimizer = torch.optim.SGD(model.parameters(), lr=1e-5, momentum=.8, weight_decay=1e-8, nesterov=True)"
   ]
  },
  {
   "cell_type": "code",
   "execution_count": 22,
   "metadata": {},
   "outputs": [],
   "source": [
    "losses_sgd = []\n",
    "for epoch in range(epochs):\n",
    "    pred = model.forward(x)\n",
    "    loss = criterion(pred, y)\n",
    "    losses_sgd.append(loss.item())\n",
    "    # 登録されたパラメータの勾配を 0 にする\n",
    "    optimizer.zero_grad()\n",
    "    loss.backward()\n",
    "    optimizer.step()"
   ]
  },
  {
   "cell_type": "code",
   "execution_count": 23,
   "metadata": {},
   "outputs": [
    {
     "data": {
      "image/png": "[encoded data removed]",
      "text/plain": [
       "<matplotlib.figure.Figure at 0x7f04e557dba8>"
      ]
     },
     "metadata": {},
     "output_type": "display_data"
    }
   ],
   "source": [
    "plt.figure(figsize=(8, 6))\n",
    "plt.plot(losses, label=\"naive update\")\n",
    "plt.plot(losses_sgd, label=\"SGD with Nesterov and momentum\")\n",
    "plt.legend(loc=1)\n",
    "plt.xlabel(\"epochs\")\n",
    "plt.ylabel(\"loss (log scale)\")\n",
    "plt.yscale(\"log\")\n",
    "plt.savefig(\"loss_transition.png\", dpi=150)"
   ]
  }
 ],
 "metadata": {
  "kernelspec": {
   "display_name": "Python 3",
   "language": "python",
   "name": "python3"
  },
  "language_info": {
   "codemirror_mode": {
    "name": "ipython",
    "version": 3
   },
   "file_extension": ".py",
   "mimetype": "text/x-python",
   "name": "python",
   "nbconvert_exporter": "python",
   "pygments_lexer": "ipython3",
   "version": "3.5.2"
  }
 },
 "nbformat": 4,
 "nbformat_minor": 2
}
